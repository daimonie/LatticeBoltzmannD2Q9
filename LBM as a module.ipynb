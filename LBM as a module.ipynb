{
 "cells": [
  {
   "cell_type": "markdown",
   "metadata": {},
   "source": [
    "<h2>LBM as a module </h2>\n",
    "<p> Even though the LBM (Palabos) notebooks in this directory are very nice to use, they do not scale easily to a cluster or similar. This is why a module would be appropriate. Ideally, you would give it the correct properties, then run the functionality. If this can be made to scale nicely on a cluster (either by running multiple scripts or having parallel code) that would be an added benefit. </p>"
   ]
  },
  {
   "cell_type": "code",
   "execution_count": 1,
   "metadata": {},
   "outputs": [],
   "source": [
    "import numpy as np\n",
    "import matplotlib.pyplot as plt\n",
    "from matplotlib import cm\n",
    "from lbm import simulation as sim\n",
    "from lbm import common as helper"
   ]
  },
  {
   "cell_type": "code",
   "execution_count": 2,
   "metadata": {},
   "outputs": [],
   "source": [
    "configuration = {\n",
    "    \"reynolds\": 91,\n",
    "    \"horizontal\": 500,\n",
    "    \"vertical\": 180,\n",
    "    \"scale\": 20,\n",
    "    \"speed\": 0.04\n",
    "} "
   ]
  },
  {
   "cell_type": "code",
   "execution_count": 3,
   "metadata": {},
   "outputs": [],
   "source": [
    "try:\n",
    "    simulation = sim.lattice_boltzmann(configuration)\n",
    "except AssertionError:\n",
    "    print(\"The configuration dictionary was incomplete.\")"
   ]
  },
  {
   "cell_type": "code",
   "execution_count": 4,
   "metadata": {},
   "outputs": [],
   "source": [
    "circular_obstacle = lambda x,y: (x-simulation.horizontal/4)**2+(y-simulation.vertical/2)**2 < simulation.speed**2\n",
    " \n",
    "try:\n",
    "    simulation.set_obstacle(circular_obstacle) \n",
    "except:\n",
    "    print(\"Something went wrong. Is your obstacle correct?\")"
   ]
  },
  {
   "cell_type": "code",
   "execution_count": 5,
   "metadata": {},
   "outputs": [],
   "source": [
    "default_equilibrium = lambda rho, velocity: helper.equilibrium(rho, velocity, configuration[\"speed\"], configuration[\"horizontal\"], configuration[\"vertical\"])\n",
    "\n",
    "try:\n",
    "    simulation.set_equilibrium(default_equilibrium) \n",
    "except:\n",
    "    print(\"Something went wrong. Is your equilibrium correct?\")  "
   ]
  },
  {
   "cell_type": "code",
   "execution_count": 6,
   "metadata": {},
   "outputs": [],
   "source": [
    "default_velocity = helper.velocity(configuration[\"speed\"], configuration[\"vertical\"])\n",
    "\n",
    "try:\n",
    "    simulation.set_inflow_velocity(default_velocity)\n",
    "except:\n",
    "    print(\"Something went wrong. is your inflow_velocity correct? \")"
   ]
  },
  {
   "cell_type": "code",
   "execution_count": 7,
   "metadata": {},
   "outputs": [
    {
     "name": "stdout",
     "output_type": "stream",
     "text": [
      "Initialisation failed. What is happening?\n"
     ]
    },
    {
     "ename": "AssertionError",
     "evalue": "Sizes of $92.10, $92.15, speed_squared do not match on C:\\Users\\Daimonie\\Repositories\\LatticeBoltzmannD2Q9\\lbm\\common.py (14)",
     "output_type": "error",
     "traceback": [
      "\u001b[1;31m---------------------------------------------------------------------------\u001b[0m",
      "\u001b[1;31mAssertionError\u001b[0m                            Traceback (most recent call last)",
      "\u001b[1;32m<ipython-input-7-bc1703c956ef>\u001b[0m in \u001b[0;36m<module>\u001b[1;34m()\u001b[0m\n\u001b[0;32m      4\u001b[0m     \u001b[0mprint\u001b[0m\u001b[1;33m(\u001b[0m\u001b[1;34m\"Initialisation failed. What is happening?\"\u001b[0m\u001b[1;33m)\u001b[0m\u001b[1;33m\u001b[0m\u001b[0m\n\u001b[0;32m      5\u001b[0m \u001b[1;33m\u001b[0m\u001b[0m\n\u001b[1;32m----> 6\u001b[1;33m \u001b[0mprint\u001b[0m\u001b[1;33m(\u001b[0m\u001b[0mdefault_equilibrium\u001b[0m\u001b[1;33m(\u001b[0m\u001b[1;36m1.0\u001b[0m\u001b[1;33m,\u001b[0m \u001b[0msimulation\u001b[0m\u001b[1;33m.\u001b[0m\u001b[0minitial_velocity\u001b[0m\u001b[1;33m)\u001b[0m\u001b[1;33m)\u001b[0m\u001b[1;33m\u001b[0m\u001b[0m\n\u001b[0m",
      "\u001b[1;32m<ipython-input-5-9b7c9fae3ccb>\u001b[0m in \u001b[0;36m<lambda>\u001b[1;34m(rho, velocity)\u001b[0m\n\u001b[1;32m----> 1\u001b[1;33m \u001b[0mdefault_equilibrium\u001b[0m \u001b[1;33m=\u001b[0m \u001b[1;32mlambda\u001b[0m \u001b[0mrho\u001b[0m\u001b[1;33m,\u001b[0m \u001b[0mvelocity\u001b[0m\u001b[1;33m:\u001b[0m \u001b[0mhelper\u001b[0m\u001b[1;33m.\u001b[0m\u001b[0mequilibrium\u001b[0m\u001b[1;33m(\u001b[0m\u001b[0mrho\u001b[0m\u001b[1;33m,\u001b[0m \u001b[0mvelocity\u001b[0m\u001b[1;33m,\u001b[0m \u001b[0mconfiguration\u001b[0m\u001b[1;33m[\u001b[0m\u001b[1;34m\"speed\"\u001b[0m\u001b[1;33m]\u001b[0m\u001b[1;33m,\u001b[0m \u001b[0mconfiguration\u001b[0m\u001b[1;33m[\u001b[0m\u001b[1;34m\"horizontal\"\u001b[0m\u001b[1;33m]\u001b[0m\u001b[1;33m,\u001b[0m \u001b[0mconfiguration\u001b[0m\u001b[1;33m[\u001b[0m\u001b[1;34m\"vertical\"\u001b[0m\u001b[1;33m]\u001b[0m\u001b[1;33m)\u001b[0m\u001b[1;33m\u001b[0m\u001b[0m\n\u001b[0m\u001b[0;32m      2\u001b[0m \u001b[1;33m\u001b[0m\u001b[0m\n\u001b[0;32m      3\u001b[0m \u001b[1;32mtry\u001b[0m\u001b[1;33m:\u001b[0m\u001b[1;33m\u001b[0m\u001b[0m\n\u001b[0;32m      4\u001b[0m     \u001b[0msimulation\u001b[0m\u001b[1;33m.\u001b[0m\u001b[0mset_equilibrium\u001b[0m\u001b[1;33m(\u001b[0m\u001b[0mdefault_equilibrium\u001b[0m\u001b[1;33m)\u001b[0m\u001b[1;33m\u001b[0m\u001b[0m\n\u001b[0;32m      5\u001b[0m \u001b[1;32mexcept\u001b[0m\u001b[1;33m:\u001b[0m\u001b[1;33m\u001b[0m\u001b[0m\n",
      "\u001b[1;31mAssertionError\u001b[0m: Sizes of $92.10, $92.15, speed_squared do not match on C:\\Users\\Daimonie\\Repositories\\LatticeBoltzmannD2Q9\\lbm\\common.py (14)"
     ]
    }
   ],
   "source": [
    "try: \n",
    "    simulation.initialise ()\n",
    "except:\n",
    "    print(\"Initialisation failed. What is happening?\")\n",
    "\n",
    "print(default_equilibrium(1.0, simulation.initial_velocity))"
   ]
  },
  {
   "cell_type": "code",
   "execution_count": null,
   "metadata": {},
   "outputs": [],
   "source": [
    "print(\"If this prints, everything worked on reboot\")"
   ]
  }
 ],
 "metadata": {
  "kernelspec": {
   "display_name": "Python 3",
   "language": "python",
   "name": "python3"
  },
  "language_info": {
   "codemirror_mode": {
    "name": "ipython",
    "version": 3
   },
   "file_extension": ".py",
   "mimetype": "text/x-python",
   "name": "python",
   "nbconvert_exporter": "python",
   "pygments_lexer": "ipython3",
   "version": "3.6.5"
  }
 },
 "nbformat": 4,
 "nbformat_minor": 2
}
