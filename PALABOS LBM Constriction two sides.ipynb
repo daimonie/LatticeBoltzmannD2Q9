{
 "cells": [
  {
   "cell_type": "markdown",
   "metadata": {},
   "source": [
    "<p> Code found <a href=\"https://www.youtube.com/watch?v=M2PqI2JD2jo&feature=youtu.be\">on the internet</a>.</p>"
   ]
  },
  {
   "cell_type": "code",
   "execution_count": 1,
   "metadata": {},
   "outputs": [],
   "source": [
    "from numpy import *\n",
    "from numpy.linalg import *\n",
    "import matplotlib.pyplot as plt\n",
    "from matplotlib import cm\n",
    "from numba import jit\n",
    "import time as time"
   ]
  },
  {
   "cell_type": "code",
   "execution_count": 2,
   "metadata": {},
   "outputs": [],
   "source": [
    "from mpl_toolkits import axes_grid1\n",
    "\n",
    "#https://stackoverflow.com/questions/18195758/set-matplotlib-colorbar-size-to-match-graph\n",
    "def add_colorbar(im, aspect=20, pad_fraction=0.5, **kwargs):\n",
    "    \"\"\"Add a vertical color bar to an image plot.\"\"\"\n",
    "    divider = axes_grid1.make_axes_locatable(im.axes)\n",
    "    width = axes_grid1.axes_size.AxesY(im.axes, aspect=1./aspect)\n",
    "    pad = axes_grid1.axes_size.Fraction(pad_fraction, width)\n",
    "    current_ax = plt.gca()\n",
    "    cax = divider.append_axes(\"right\", size=width, pad=pad)\n",
    "    plt.sca(current_ax)\n",
    "    return im.axes.figure.colorbar(im, cax=cax, **kwargs)"
   ]
  },
  {
   "cell_type": "code",
   "execution_count": 3,
   "metadata": {},
   "outputs": [],
   "source": [
    "maxIter = 200000 # Total number of time iterations.\n",
    "Re      = 50.0  # Reynolds number.\n",
    "\n",
    "finegrain = 1.00\n",
    "\n",
    "nx = int(1024*finegrain)\n",
    "ny = int(1024/2*finegrain)\n",
    "ly=ny-1.0\n",
    "q = 9 # Lattice dimensions and populations.\n",
    "\n",
    "\n",
    "cx = nx/4\n",
    "cy=ny/2\n",
    "r=7*ny/9/2          # Coordinates of the cylinder.\n",
    "\n",
    "uLB     = 0.04                       # Velocity in lattice units.\n",
    "nulb    = uLB*r/Re; omega = 1.0 / (3.*nulb+0.5); # Relaxation parameter.\n"
   ]
  },
  {
   "cell_type": "code",
   "execution_count": 4,
   "metadata": {},
   "outputs": [],
   "source": [
    "c = array([(x,y) for x in [0,-1,1] for y in [0,-1,1]]) # Lattice velocities.\n",
    "t = 1./36. * ones(q)                                   # Lattice weights.\n",
    "t[asarray([norm(ci)<1.1 for ci in c])] = 1./9.; t[0] = 4./9.\n",
    "noslip = [c.tolist().index((-c[i]).tolist()) for i in range(q)] \n",
    "i1 = arange(q)[asarray([ci[0]<0  for ci in c])] # Unknown on right wall.\n",
    "i2 = arange(q)[asarray([ci[0]==0 for ci in c])] # Vertical middle.\n",
    "i3 = arange(q)[asarray([ci[0]>0  for ci in c])] # Unknown on left wall.\n"
   ]
  },
  {
   "cell_type": "code",
   "execution_count": 5,
   "metadata": {},
   "outputs": [],
   "source": [
    "sumpop = lambda fin: sum(fin,axis=0) # Helper function for density computation.\n",
    "@jit(parallel=True)\n",
    "def equilibrium(rho,u):              # Equilibrium distribution function.\n",
    "    cu   = 3.0 * dot(c,u.transpose(1,0,2))\n",
    "    usqr = 3./2.*(u[0]**2+u[1]**2)\n",
    "    feq = zeros((q,nx,ny))\n",
    "    for i in range(q): feq[i,:,:] = rho*t[i]*(1.+cu[i]+0.5*cu[i]**2-usqr)\n",
    "    return feq"
   ]
  },
  {
   "cell_type": "code",
   "execution_count": 6,
   "metadata": {},
   "outputs": [
    {
     "data": {
      "image/png": "[encoded data removed]",
      "text/plain": [
       "<Figure size 432x288 with 1 Axes>"
      ]
     },
     "metadata": {},
     "output_type": "display_data"
    }
   ],
   "source": [
    "\n",
    "gaussian = lambda x, amp, mu, sigma:amp* ny * exp( -(x-mu)**2 / (2*sigma**2))\n",
    "\n",
    "x = linspace(0, nx, 1000)\n",
    "y = gaussian(x, 0.45, nx/4, nx/20)\n",
    "y2 = ny-gaussian(x, 0.45, nx/4, nx/20)\n",
    "\n",
    "plt.fill(x, y, 'r-', x, y2, 'b-')\n",
    "plt.xlim(0, nx)\n",
    "plt.ylim(0, ny)\n",
    "plt.show()\n",
    "plt.close()\n",
    "\n"
   ]
  },
  {
   "cell_type": "code",
   "execution_count": 7,
   "metadata": {},
   "outputs": [
    {
     "data": {
      "image/png": "[encoded data removed]",
      "text/plain": [
       "<Figure size 432x288 with 1 Axes>"
      ]
     },
     "metadata": {},
     "output_type": "display_data"
    }
   ],
   "source": [
    "def tanh_constriction(x, amp, centre, length, sharpness):\n",
    "    ret = zeros(x.shape)\n",
    "    ret[x >= centre] = 0.5*amp* ny*(tanh(sharpness*(centre - x[x >= centre] +length/2)) + 1)\n",
    "    ret[x < centre] = 0.5*amp* ny*(tanh(sharpness*(x[x < centre] + length/2  - centre)) + 1)\n",
    "    return ret\n",
    "\n",
    "x = linspace(0, nx, 1000)\n",
    "y = tanh_constriction(x, 0.3333, nx/4, nx/6,  0.02)\n",
    "y2 = ny-tanh_constriction(x, 0.3333, nx/4, nx/6, 0.02)\n",
    "\n",
    "plt.fill(x, y, 'r-', x, y2, 'b-')\n",
    "plt.xlim(0, nx)\n",
    "plt.ylim(0, ny)\n",
    "plt.show()\n",
    "plt.close()"
   ]
  },
  {
   "cell_type": "code",
   "execution_count": 8,
   "metadata": {},
   "outputs": [],
   "source": [
    "obstacle_one = fromfunction(lambda x,y: gaussian(x, 0.45, nx/4, nx/20) > y, (nx,ny))\n",
    "obstacle_two = fromfunction(lambda x,y: ny-gaussian(x, 0.45, nx/4, nx/20) < y, (nx,ny))\n",
    "\n",
    "obstacle_gaussian = obstacle_one + obstacle_two\n",
    "\n",
    "\n",
    "obstacle_one_tanh = fromfunction(lambda x,y: tanh_constriction(x, 0.35, nx/4, nx/6, 0.02) > y, (nx,ny))\n",
    "obstacle_two_tanh = fromfunction(lambda x,y: ny-tanh_constriction(x, 0.45, nx/4,nx/6, 0.02) < y, (nx,ny))\n",
    "obstacle_tanh = obstacle_one_tanh+ obstacle_two_tanh\n",
    "\n",
    "obstacle = obstacle_tanh\n",
    "\n",
    "\n",
    "vel = fromfunction(lambda d,x,y: (1-d)*uLB*(1.0+1e-4*sin(y/ly*2*pi)),(2,nx,ny))\n",
    "feq = equilibrium(1.0,vel)\n",
    "fin = feq.copy()\n"
   ]
  },
  {
   "cell_type": "code",
   "execution_count": null,
   "metadata": {},
   "outputs": [
    {
     "name": "stdout",
     "output_type": "stream",
     "text": [
      "Iteration 0, time spent 0.709\n",
      "Iteration 1, time spent 3.719\n",
      "Iteration 15, time spent 10.044 (total 10.044)\n",
      "Iteration 55, time spent 10.194 (total 20.238)\n",
      "Iteration 95, time spent 10.205 (total 30.443)\n",
      "Iteration 100, time spent 31.695\n",
      "Iteration 124, time spent 10.114 (total 40.557)\n",
      "Iteration 163, time spent 10.171 (total 50.727)\n"
     ]
    }
   ],
   "source": [
    "start_time = time.time ()\n",
    "report_time = start_time\n",
    "\n",
    "for j in range(maxIter): \n",
    "    fin[i1,-1,:] = fin[i1,-2,:] # Right wall: outflow condition.\n",
    "    rho = sumpop(fin)           # Calculate macroscopic density and velocity.\n",
    "    u = dot(c.transpose(), fin.transpose((1,0,2)))/rho\n",
    "\n",
    "    u[:,0,:] =vel[:,0,:] # Left wall: compute density from known populations.\n",
    "    rho[0,:] = 1./(1.-u[0,0,:]) * (sumpop(fin[i2,0,:])+2.*sumpop(fin[i1,0,:]))\n",
    "\n",
    "    feq = equilibrium(rho,u) # Left wall: Zou/He boundary condition.\n",
    "    fin[i3,0,:] = fin[i1,0,:] + feq[i3,0,:] - fin[i1,0,:]\n",
    "    fout = fin - omega * (fin - feq)  # Collision step.\n",
    "    for i in range(q):\n",
    "        fout[i,obstacle] = fin[noslip[i],obstacle]\n",
    "\n",
    "    for i in range(q): # Streaming step.\n",
    "        fin[i,:,:] = roll(roll(fout[i,:,:],c[i,0],axis=0),c[i,1],axis=1)\n",
    " \n",
    "    elapsed_time = time.time() - report_time\n",
    "    \n",
    "    if elapsed_time > 10:\n",
    "        print (\"Iteration %d, time spent %.3f (total %.3f)\" % (j, elapsed_time, time.time() - start_time))\n",
    "        report_time = time.time()\n",
    "        \n",
    "    if (j%100==0 or j==1): # Visualization\n",
    "        print (\"Iteration %d, time spent %.3f\" % (j, time.time() - start_time))\n",
    "        plt.clf()\n",
    "        plt.figure(dpi=1200)\n",
    "        im = plt.imshow(sqrt(u[0]**2+u[1]**2).transpose(),cmap=cm.winter)\n",
    "        plt.title(\"Iteration %d, Re=%d\" % (j, Re))\n",
    "        add_colorbar(im)\n",
    "        plt.savefig(\"palabos/constriction_tanh_two_sides_finegrain%dre%diteration%d.png\" % (finegrain*100, Re, j))\n",
    "\n",
    "        plt.close()  \n"
   ]
  },
  {
   "cell_type": "code",
   "execution_count": null,
   "metadata": {},
   "outputs": [],
   "source": []
  },
  {
   "cell_type": "code",
   "execution_count": null,
   "metadata": {},
   "outputs": [],
   "source": []
  },
  {
   "cell_type": "code",
   "execution_count": null,
   "metadata": {},
   "outputs": [],
   "source": []
  }
 ],
 "metadata": {
  "kernelspec": {
   "display_name": "Python 3",
   "language": "python",
   "name": "python3"
  },
  "language_info": {
   "codemirror_mode": {
    "name": "ipython",
    "version": 3
   },
   "file_extension": ".py",
   "mimetype": "text/x-python",
   "name": "python",
   "nbconvert_exporter": "python",
   "pygments_lexer": "ipython3",
   "version": "3.6.5"
  }
 },
 "nbformat": 4,
 "nbformat_minor": 2
}
