{
 "cells": [
  {
   "cell_type": "markdown",
   "metadata": {},
   "source": [
    "<p> Code found <a href=\"https://www.youtube.com/watch?v=M2PqI2JD2jo&feature=youtu.be\">on the internet</a>.</p>"
   ]
  },
  {
   "cell_type": "code",
   "execution_count": 1,
   "metadata": {},
   "outputs": [],
   "source": [
    "from numpy import *\n",
    "from numpy.linalg import *\n",
    "import matplotlib.pyplot as plt\n",
    "from matplotlib import cm\n",
    "from numba import jit"
   ]
  },
  {
   "cell_type": "code",
   "execution_count": 2,
   "metadata": {},
   "outputs": [],
   "source": [
    "maxIter = 200000 # Total number of time iterations.\n",
    "Re      = 500.0  # Reynolds number.\n",
    "\n",
    "finegrain = 0.50*4;\n",
    "\n",
    "nx = int(512*finegrain)\n",
    "ny = int(256*finegrain)\n",
    "ly=ny-1.0\n",
    "q = 9 # Lattice dimensions and populations.\n",
    "\n",
    "obstacle_length = 0.5\n",
    "\n",
    "cx = nx/4\n",
    "cy=ny/2\n",
    "\n",
    "#Reynolds length scale\n",
    "r=obstacle_length*ny\n",
    "\n",
    "uLB     = 0.04                       # Velocity in lattice units.\n",
    "nulb    = uLB*r/Re;\n",
    "omega = 1.0 / (3.*nulb+0.5); # Relaxation parameter.\n"
   ]
  },
  {
   "cell_type": "code",
   "execution_count": 3,
   "metadata": {},
   "outputs": [],
   "source": [
    "c = array([(x,y) for x in [0,-1,1] for y in [0,-1,1]]) # Lattice velocities.\n",
    "t = 1./36. * ones(q)                                   # Lattice weights.\n",
    "\n",
    "t[asarray([norm(ci)<1.1 for ci in c])] = 1./9.; t[0] = 4./9.\n",
    "noslip = [c.tolist().index((-c[i]).tolist()) for i in range(q)] \n",
    "\n",
    "i1 = arange(q)[asarray([ci[0]<0  for ci in c])] # Unknown on right wall.\n",
    "i2 = arange(q)[asarray([ci[0]==0 for ci in c])] # Vertical middle.\n",
    "i3 = arange(q)[asarray([ci[0]>0  for ci in c])] # Unknown on left wall.\n"
   ]
  },
  {
   "cell_type": "code",
   "execution_count": 4,
   "metadata": {},
   "outputs": [],
   "source": [
    "sumpop = lambda fin: sum(fin,axis=0) # Helper function for density computation.\n",
    "@jit(parallel=True)\n",
    "def equilibrium(rho,u):              # Equilibrium distribution function.\n",
    "    cu   = 3.0 * dot(c,u.transpose(1,0,2))\n",
    "    usqr = 3./2.*(u[0]**2+u[1]**2)\n",
    "    feq = zeros((q,nx,ny))\n",
    "    for i in range(q): feq[i,:,:] = rho*t[i]*(1.+cu[i]+0.5*cu[i]**2-usqr)\n",
    "    return feq"
   ]
  },
  {
   "cell_type": "code",
   "execution_count": 5,
   "metadata": {},
   "outputs": [
    {
     "data": {
      "image/png": "[encoded data removed]",
      "text/plain": [
       "<matplotlib.figure.Figure at 0x286d3b0cf60>"
      ]
     },
     "metadata": {},
     "output_type": "display_data"
    }
   ],
   "source": [
    "\n",
    "gaussian = lambda x, amp, mu, sigma:amp* ny * exp( -(x-mu)**2 / (2*sigma**2))\n",
    "\n",
    "x = linspace(0, nx, 1000)\n",
    "y = gaussian(x, obstacle_length, nx/4, 20)\n",
    "\n",
    "plt.plot(x, y, 'r-')\n",
    "plt.xlim(0, nx)\n",
    "plt.ylim(0, ny)\n",
    "plt.show()\n",
    "plt.close()"
   ]
  },
  {
   "cell_type": "code",
   "execution_count": null,
   "metadata": {},
   "outputs": [],
   "source": [
    "obstacle = fromfunction(lambda x,y: gaussian(x, obstacle_length, nx/4, 20) > y, (nx,ny))\n",
    "\n",
    "vel = fromfunction(lambda d,x,y: (1-d)*uLB*(1.0+1e-4*sin(y/ly*2*pi)),(2,nx,ny))\n",
    "feq = equilibrium(1.0,vel); fin = feq.copy()\n"
   ]
  },
  {
   "cell_type": "code",
   "execution_count": null,
   "metadata": {},
   "outputs": [],
   "source": [
    "for time in range(maxIter): \n",
    "    \n",
    "    fin[i1,-1,:] = fin[i1,-2,:] # Right wall: outflow condition.\n",
    "    rho = sumpop(fin)           # Calculate macroscopic density and velocity.\n",
    "    u = dot(c.transpose(), fin.transpose((1,0,2)))/rho\n",
    "\n",
    "    u[:,0,:] =vel[:,0,:] # Left wall: compute density from known populations.\n",
    "    rho[0,:] = 1./(1.-u[0,0,:]) * (sumpop(fin[i2,0,:])+2.*sumpop(fin[i1,0,:]))\n",
    "\n",
    "    feq = equilibrium(rho,u) # Left wall: Zou/He boundary condition.\n",
    "    fin[i3,0,:] = fin[i1,0,:] + feq[i3,0,:] - fin[i1,0,:]\n",
    "    fout = fin - omega * (fin - feq)  # Collision step.\n",
    "    for i in range(q):\n",
    "        fout[i,obstacle] = fin[noslip[i],obstacle]\n",
    "    for i in range(q): # Streaming step.\n",
    "        fin[i,:,:] = roll(roll(fout[i,:,:],c[i,0],axis=0),c[i,1],axis=1)\n",
    " \n",
    "    if (time%100==0): # Visualization\n",
    "        plt.clf()\n",
    "        plt.imshow(sqrt(u[0]**2+u[1]**2).transpose(),cmap=cm.Reds)\n",
    "        plt.title(\"Iteration %d, Re=%d\" % (time, Re))\n",
    "        \n",
    "        filename = \"palabos/constriction_one_side_finegrain%diteration%dre%dobstruction%d.png\" % (finegrain*100, time, Re,100*obstacle_length)\n",
    "        \n",
    "        #plt.show()\n",
    "        plt.savefig(filename)\n",
    "        plt.close()  \n"
   ]
  },
  {
   "cell_type": "code",
   "execution_count": null,
   "metadata": {},
   "outputs": [],
   "source": []
  },
  {
   "cell_type": "code",
   "execution_count": null,
   "metadata": {},
   "outputs": [],
   "source": []
  },
  {
   "cell_type": "code",
   "execution_count": null,
   "metadata": {},
   "outputs": [],
   "source": []
  }
 ],
 "metadata": {
  "kernelspec": {
   "display_name": "Python 3",
   "language": "python",
   "name": "python3"
  },
  "language_info": {
   "codemirror_mode": {
    "name": "ipython",
    "version": 3
   },
   "file_extension": ".py",
   "mimetype": "text/x-python",
   "name": "python",
   "nbconvert_exporter": "python",
   "pygments_lexer": "ipython3",
   "version": "3.6.4"
  }
 },
 "nbformat": 4,
 "nbformat_minor": 2
}
